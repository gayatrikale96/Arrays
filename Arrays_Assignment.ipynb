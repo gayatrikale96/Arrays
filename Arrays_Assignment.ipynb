{
 "cells": [
  {
   "cell_type": "raw",
   "id": "d87f4966-258a-4e15-a49a-798658aa2f10",
   "metadata": {},
   "source": [
    "1. Given an array, check if it contains any duplicates or not.\n",
    "arr = [1, 2, 4, 2, 5, 9]\n",
    "Output = True"
   ]
  },
  {
   "cell_type": "code",
   "execution_count": 1,
   "id": "facf4d49-d49a-477c-8c27-5e0a6071f8ad",
   "metadata": {},
   "outputs": [
    {
     "name": "stdout",
     "output_type": "stream",
     "text": [
      "True\n"
     ]
    }
   ],
   "source": [
    "arr = [1, 2, 4, 2, 5, 9]\n",
    "\n",
    "def contains_duplicates(arr):\n",
    "    return len(set(arr)) < len(arr)\n",
    "\n",
    "output = contains_duplicates(arr)\n",
    "print(output)"
   ]
  },
  {
   "cell_type": "raw",
   "id": "403a502f-94d1-4374-bbca-40f6cccbf189",
   "metadata": {},
   "source": [
    "2. Given an array and an integer k, rotate the array to the right by k steps.\n",
    "arr = [1, 2, 3, 4, 5, 6, 7] k = 3\n",
    "Output = [5, 6, 7, 1, 2, 3, 4]"
   ]
  },
  {
   "cell_type": "code",
   "execution_count": 2,
   "id": "fb3647e1-f6a7-43d9-aff5-0ac4b4459a4e",
   "metadata": {},
   "outputs": [
    {
     "name": "stdout",
     "output_type": "stream",
     "text": [
      "[5, 6, 7, 1, 2, 3, 4]\n"
     ]
    }
   ],
   "source": [
    "def rotate_array(arr, k):\n",
    "    n = len(arr)\n",
    "    k = k % n # Handle cases where k is greater than the length of the array\n",
    "    \n",
    "    # Rotate the array using slicing\n",
    "    rotated_arr = arr[-k:] + arr[:-k]\n",
    "    \n",
    "    return rotated_arr\n",
    "\n",
    "arr = [1, 2, 3, 4, 5, 6, 7]\n",
    "k = 3\n",
    "output = rotate_array(arr, k)\n",
    "print(output)"
   ]
  },
  {
   "cell_type": "raw",
   "id": "b03074e0-7cc0-4296-89a5-946504e71f53",
   "metadata": {},
   "source": [
    "3. Reverse the given array in-place, means without using any extra data structure.\n",
    "arr = [2, 4, 5, 7, 9, 12]\n",
    "Output = [12, 9, 7, 5, 4, 2]"
   ]
  },
  {
   "cell_type": "code",
   "execution_count": 3,
   "id": "d7ceed22-8ab2-469e-85d9-da18e68c4b35",
   "metadata": {},
   "outputs": [
    {
     "name": "stdout",
     "output_type": "stream",
     "text": [
      "[12, 9, 7, 5, 4, 2]\n"
     ]
    }
   ],
   "source": [
    "def reverse_array_in_place(arr):\n",
    "    start, end = 0, len(arr) - 1\n",
    "    \n",
    "    while start < end:\n",
    "        # Swap elements at the start and end indices\n",
    "        arr[start], arr[end] = arr[end], arr[start]\n",
    "        \n",
    "        # Move the pointers towards each other\n",
    "        start += 1\n",
    "        end -= 1\n",
    "        \n",
    "# Example usage:\n",
    "arr = [2, 4, 5, 7, 9, 12]\n",
    "reverse_array_in_place(arr)\n",
    "print(arr)"
   ]
  },
  {
   "cell_type": "raw",
   "id": "9fa10498-442a-4d3d-82a9-6d465bc2b772",
   "metadata": {},
   "source": [
    "4. Given an array of integers, find the maximum element in an array\n",
    "arr = [10, 5, 20, 8, 15]\n",
    "Output = 20"
   ]
  },
  {
   "cell_type": "code",
   "execution_count": 4,
   "id": "18c01f73-d541-4092-8546-f79a1d9a5921",
   "metadata": {},
   "outputs": [
    {
     "name": "stdout",
     "output_type": "stream",
     "text": [
      "20\n"
     ]
    }
   ],
   "source": [
    "arr = [10, 5, 20, 8, 15]\n",
    "max_element = max(arr)\n",
    "\n",
    "print(max_element)"
   ]
  },
  {
   "cell_type": "raw",
   "id": "79819f94-5a40-49ab-85b5-a2a3136b25a3",
   "metadata": {},
   "source": [
    "5. Given a sorted array, remove the duplicate element without using any extra data structure.\n",
    "arr = [1, 1, 2, 2, 2, 3, 3, 4, 4, 4, 5, 5]\n",
    "Output = [1, 2, 3, 4, 5]\n"
   ]
  },
  {
   "cell_type": "code",
   "execution_count": 6,
   "id": "c9648513-50ac-470e-9919-a01d9ab85275",
   "metadata": {},
   "outputs": [
    {
     "name": "stdout",
     "output_type": "stream",
     "text": [
      "[1, 2, 3, 4, 5]\n"
     ]
    }
   ],
   "source": [
    "def remove_duplicates(arr):\n",
    "    if not arr:\n",
    "        return 0 # Empty array\n",
    "    \n",
    "    # Initialize pointers\n",
    "    unique_index = 0\n",
    "    \n",
    "    for i in range(1, len(arr)):\n",
    "        if arr[i] != arr[unique_index]:\n",
    "            unique_index += 1\n",
    "            arr[unique_index] = arr[i]\n",
    "            \n",
    "    return unique_index + 1 # Length of the new array without duplicates\n",
    "\n",
    "# Example Usage:\n",
    "arr = [1, 1, 2, 2, 2, 3, 3, 4, 4, 4, 5, 5]\n",
    "new_length = remove_duplicates(arr)\n",
    "\n",
    "# The array up to the new lengtgh contains unique elements\n",
    "result = arr[:new_length]\n",
    "print(result)"
   ]
  },
  {
   "cell_type": "code",
   "execution_count": null,
   "id": "5ed464ea-bbb3-4bfc-998e-6001bd4195d8",
   "metadata": {},
   "outputs": [],
   "source": []
  }
 ],
 "metadata": {
  "kernelspec": {
   "display_name": "Python 3 (ipykernel)",
   "language": "python",
   "name": "python3"
  },
  "language_info": {
   "codemirror_mode": {
    "name": "ipython",
    "version": 3
   },
   "file_extension": ".py",
   "mimetype": "text/x-python",
   "name": "python",
   "nbconvert_exporter": "python",
   "pygments_lexer": "ipython3",
   "version": "3.10.8"
  }
 },
 "nbformat": 4,
 "nbformat_minor": 5
}
